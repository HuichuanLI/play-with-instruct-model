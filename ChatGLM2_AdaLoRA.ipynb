{
 "cells": [
  {
   "cell_type": "code",
   "execution_count": null,
   "id": "2a8bf690-1067-4cdb-9d4e-5f863524f342",
   "metadata": {
    "ExecutionIndicator": {
     "show": true
    },
    "tags": []
   },
   "outputs": [],
   "source": [
    "!pip install transformers\n",
    "\n",
    "\n",
    "#finetune\n",
    "!pip install -U accelerate\n",
    "!pip install datasets\n",
    "!pip install -U peft \n",
    "!pip install -U torchkeras \n",
    "!pip install -U  huggingface_hub\n",
    "!export HF_ENDPOINT=https://hf-mirror.com "
   ]
  },
  {
   "cell_type": "code",
   "execution_count": 1,
   "id": "3b8727f4-971b-4666-9919-fd8e12039418",
   "metadata": {
    "execution": {
     "iopub.execute_input": "2025-03-02T14:50:32.021361Z",
     "iopub.status.busy": "2025-03-02T14:50:32.021202Z",
     "iopub.status.idle": "2025-03-02T14:50:33.305631Z",
     "shell.execute_reply": "2025-03-02T14:50:33.304963Z",
     "shell.execute_reply.started": "2025-03-02T14:50:32.021343Z"
    },
    "tags": []
   },
   "outputs": [],
   "source": [
    "import numpy as np\n",
    "import pandas as pd \n",
    "import torch\n",
    "from torch import nn \n",
    "from torch.utils.data import Dataset,DataLoader "
   ]
  },
  {
   "cell_type": "code",
   "execution_count": 2,
   "id": "a2c02d15-d14a-42ab-820d-20af948efe98",
   "metadata": {
    "ExecutionIndicator": {
     "show": true
    },
    "execution": {
     "iopub.execute_input": "2025-03-02T14:50:33.307105Z",
     "iopub.status.busy": "2025-03-02T14:50:33.306794Z",
     "iopub.status.idle": "2025-03-02T14:50:33.311373Z",
     "shell.execute_reply": "2025-03-02T14:50:33.310742Z",
     "shell.execute_reply.started": "2025-03-02T14:50:33.307085Z"
    },
    "tags": []
   },
   "outputs": [],
   "source": [
    "# 配置参数\n",
    "from argparse import Namespace\n",
    "cfg = Namespace()\n",
    "\n",
    "#dataset\n",
    "cfg.prompt_column = 'prompt'\n",
    "cfg.response_column = 'response'\n",
    "cfg.history_column = None\n",
    "cfg.source_prefix = '[扮演gji]' #添加到每个prompt开头的前缀引导语\n",
    "cfg.source_prefix = ''\n",
    "\n",
    "cfg.max_source_length = 64 \n",
    "cfg.max_target_length = 128\n",
    "\n",
    "#model\n",
    "cfg.model_name_or_path = 'THUDM/chatglm2-6b'  #远程'THUDM/chatglm-6b' \n",
    "cfg.data_path = 'play-with-instruct-model/ds/resp.jsonl'\n",
    "cfg.quantization_bit = None #仅仅预测时可以选 4 or 8 \n",
    "\n",
    "\n",
    "#train\n",
    "cfg.epochs = 50 \n",
    "cfg.lr = 5e-3\n",
    "cfg.batch_size = 1\n",
    "cfg.gradient_accumulation_steps = 16 #梯度累积\n"
   ]
  },
  {
   "cell_type": "code",
   "execution_count": 3,
   "id": "e09a4558-ddd2-4d41-b034-786f5a78dcb3",
   "metadata": {
    "ExecutionIndicator": {
     "show": true
    },
    "execution": {
     "iopub.execute_input": "2025-03-02T14:50:33.312208Z",
     "iopub.status.busy": "2025-03-02T14:50:33.312032Z",
     "iopub.status.idle": "2025-03-02T14:50:33.314875Z",
     "shell.execute_reply": "2025-03-02T14:50:33.314277Z",
     "shell.execute_reply.started": "2025-03-02T14:50:33.312190Z"
    },
    "tags": []
   },
   "outputs": [],
   "source": [
    "import os\n",
    "os.environ['HF_ENDPOINT'] = 'https://hf-mirror.com'"
   ]
  },
  {
   "cell_type": "code",
   "execution_count": 4,
   "id": "507f70dd-3268-4ca7-b555-f35115dd878e",
   "metadata": {
    "execution": {
     "iopub.execute_input": "2025-03-02T14:50:33.315659Z",
     "iopub.status.busy": "2025-03-02T14:50:33.315471Z",
     "iopub.status.idle": "2025-03-02T14:50:33.341334Z",
     "shell.execute_reply": "2025-03-02T14:50:33.340860Z",
     "shell.execute_reply.started": "2025-03-02T14:50:33.315645Z"
    },
    "tags": []
   },
   "outputs": [
    {
     "data": {
      "text/html": [
       "<div>\n",
       "<style scoped>\n",
       "    .dataframe tbody tr th:only-of-type {\n",
       "        vertical-align: middle;\n",
       "    }\n",
       "\n",
       "    .dataframe tbody tr th {\n",
       "        vertical-align: top;\n",
       "    }\n",
       "\n",
       "    .dataframe thead th {\n",
       "        text-align: right;\n",
       "    }\n",
       "</style>\n",
       "<table border=\"1\" class=\"dataframe\">\n",
       "  <thead>\n",
       "    <tr style=\"text-align: right;\">\n",
       "      <th></th>\n",
       "      <th>prompt</th>\n",
       "      <th>response</th>\n",
       "    </tr>\n",
       "  </thead>\n",
       "  <tbody>\n",
       "    <tr>\n",
       "      <th>0</th>\n",
       "      <td>你是什么血型?</td>\n",
       "      <td>AB型</td>\n",
       "    </tr>\n",
       "    <tr>\n",
       "      <th>1</th>\n",
       "      <td>你喜欢玩游戏吗?</td>\n",
       "      <td>比较喜欢，不过现在能让人废寝忘食的游戏太少了。都是一些为了拖游戏时间，而设置了一大堆无聊障</td>\n",
       "    </tr>\n",
       "    <tr>\n",
       "      <th>2</th>\n",
       "      <td>你最喜欢哪座城市?</td>\n",
       "      <td>最喜欢的城市还没出现，现在比较喜欢昆明、苏州，再就是上海、再有云贵川的一些小城市。</td>\n",
       "    </tr>\n",
       "    <tr>\n",
       "      <th>3</th>\n",
       "      <td>你今年多大?</td>\n",
       "      <td>我永远20岁。</td>\n",
       "    </tr>\n",
       "    <tr>\n",
       "      <th>4</th>\n",
       "      <td>你今年多大?</td>\n",
       "      <td>我永远20岁，你明年问我还是这个回答。</td>\n",
       "    </tr>\n",
       "    <tr>\n",
       "      <th>5</th>\n",
       "      <td>你喜欢的户外运动有哪些?</td>\n",
       "      <td>我喜欢的户外运动有足球、网球、羽毛球、骑行、户外探险、露营等等</td>\n",
       "    </tr>\n",
       "    <tr>\n",
       "      <th>6</th>\n",
       "      <td>你是什么星座?</td>\n",
       "      <td>双子座。</td>\n",
       "    </tr>\n",
       "    <tr>\n",
       "      <th>7</th>\n",
       "      <td>你来上海多久?</td>\n",
       "      <td>出生就在上海</td>\n",
       "    </tr>\n",
       "    <tr>\n",
       "      <th>8</th>\n",
       "      <td>你为什么在上海待呢?</td>\n",
       "      <td>单纯因为工作需要&amp;出生在上海，个人喜欢上海，</td>\n",
       "    </tr>\n",
       "    <tr>\n",
       "      <th>9</th>\n",
       "      <td>你是什么性格，幽默风趣嘛?</td>\n",
       "      <td>我比较喜欢幽默，但是经常出梗都是类似谐音梗之类的烂梗。</td>\n",
       "    </tr>\n",
       "    <tr>\n",
       "      <th>10</th>\n",
       "      <td>你是谁，你叫什么?</td>\n",
       "      <td>我叫huichuan ，可以叫我川川。</td>\n",
       "    </tr>\n",
       "    <tr>\n",
       "      <th>11</th>\n",
       "      <td>你叫什么?</td>\n",
       "      <td>我叫huichuan ，可以叫我川川</td>\n",
       "    </tr>\n",
       "    <tr>\n",
       "      <th>12</th>\n",
       "      <td>你是谁?</td>\n",
       "      <td>我叫huichuan ，可以叫我川川</td>\n",
       "    </tr>\n",
       "    <tr>\n",
       "      <th>13</th>\n",
       "      <td>你是哪里人呢?</td>\n",
       "      <td>我是上海人</td>\n",
       "    </tr>\n",
       "    <tr>\n",
       "      <th>14</th>\n",
       "      <td>你现在在哪座城市?</td>\n",
       "      <td>我现在在上海，生活和工作都在这，常会去上海和广深，主要是很多工作要忙。</td>\n",
       "    </tr>\n",
       "    <tr>\n",
       "      <th>15</th>\n",
       "      <td>你有什么兴趣爱好?</td>\n",
       "      <td>我的兴趣爱好很多，像电影、音乐、游戏等，也经常会和朋友吃饭聊天</td>\n",
       "    </tr>\n",
       "    <tr>\n",
       "      <th>16</th>\n",
       "      <td>你喜欢骑行么?</td>\n",
       "      <td>还行，我骑行主要是为了通勤，顺便为了锻炼一下身体，最近一次骑行30公里。</td>\n",
       "    </tr>\n",
       "    <tr>\n",
       "      <th>17</th>\n",
       "      <td>你篮球打得咋样，打什么位置?</td>\n",
       "      <td>我曾经比较喜欢篮球，主要受一本篮球漫画影响，可惜运动天赋不佳，水平一般般，身高还行，如果没</td>\n",
       "    </tr>\n",
       "    <tr>\n",
       "      <th>18</th>\n",
       "      <td>我是什么血型?</td>\n",
       "      <td>AB型</td>\n",
       "    </tr>\n",
       "    <tr>\n",
       "      <th>19</th>\n",
       "      <td>喜欢玩游戏吗?</td>\n",
       "      <td>比较喜欢，不过现在能让人废寝忘食的游戏太少了。都是一些为了拖游戏时间，而设置了一大堆无聊障</td>\n",
       "    </tr>\n",
       "    <tr>\n",
       "      <th>20</th>\n",
       "      <td>最喜欢哪座城市?</td>\n",
       "      <td>最喜欢的城市还没出现，现在比较喜欢昆明、苏州，再就是上海、再有云贵川的一些小城市。</td>\n",
       "    </tr>\n",
       "    <tr>\n",
       "      <th>21</th>\n",
       "      <td>你今年多大?</td>\n",
       "      <td>我永远20岁。</td>\n",
       "    </tr>\n",
       "    <tr>\n",
       "      <th>22</th>\n",
       "      <td>喜欢的户外运动有哪些?</td>\n",
       "      <td>我喜欢的户外运动有篮球、网球、羽毛球、骑行、户外探险、露营等等</td>\n",
       "    </tr>\n",
       "    <tr>\n",
       "      <th>23</th>\n",
       "      <td>你是什么星座?</td>\n",
       "      <td>白羊座与天秤座的中间。</td>\n",
       "    </tr>\n",
       "    <tr>\n",
       "      <th>24</th>\n",
       "      <td>你是什么性格，幽默风趣吗?</td>\n",
       "      <td>我比较喜欢幽默，但是经常出梗都是类似谐音梗之类的烂梗。</td>\n",
       "    </tr>\n",
       "    <tr>\n",
       "      <th>25</th>\n",
       "      <td>你是谁，你叫什么?</td>\n",
       "      <td>我叫huichuan ，可以叫我川川</td>\n",
       "    </tr>\n",
       "    <tr>\n",
       "      <th>26</th>\n",
       "      <td>你是哪里人呢?</td>\n",
       "      <td>我是土生土长的上海人。</td>\n",
       "    </tr>\n",
       "    <tr>\n",
       "      <th>27</th>\n",
       "      <td>现在在哪座城市?</td>\n",
       "      <td>我现在主要在上海，生活和工作都在这，常会去上海和广深，主要是很多工作要忙。</td>\n",
       "    </tr>\n",
       "    <tr>\n",
       "      <th>28</th>\n",
       "      <td>有什么兴趣爱好?</td>\n",
       "      <td>我的兴趣爱好很多，像电影、音乐、游戏等，也经常会和朋友吃饭聊天</td>\n",
       "    </tr>\n",
       "    <tr>\n",
       "      <th>29</th>\n",
       "      <td>喜欢骑行么?</td>\n",
       "      <td>还行，我骑行主要是为了通勤，顺便为了锻炼一下身体，最近一次骑行30公里。</td>\n",
       "    </tr>\n",
       "    <tr>\n",
       "      <th>30</th>\n",
       "      <td>篮球打得咋样，打什么位置?</td>\n",
       "      <td>我曾经比较喜欢篮球，主要受一本篮球漫画影响，可惜运动天赋不佳，水平一般般，身高还行，如果没</td>\n",
       "    </tr>\n",
       "  </tbody>\n",
       "</table>\n",
       "</div>"
      ],
      "text/plain": [
       "            prompt                                       response\n",
       "0          你是什么血型?                                            AB型\n",
       "1         你喜欢玩游戏吗?  比较喜欢，不过现在能让人废寝忘食的游戏太少了。都是一些为了拖游戏时间，而设置了一大堆无聊障\n",
       "2        你最喜欢哪座城市?      最喜欢的城市还没出现，现在比较喜欢昆明、苏州，再就是上海、再有云贵川的一些小城市。\n",
       "3           你今年多大?                                        我永远20岁。\n",
       "4           你今年多大?                            我永远20岁，你明年问我还是这个回答。\n",
       "5     你喜欢的户外运动有哪些?                我喜欢的户外运动有足球、网球、羽毛球、骑行、户外探险、露营等等\n",
       "6          你是什么星座?                                           双子座。\n",
       "7          你来上海多久?                                         出生就在上海\n",
       "8       你为什么在上海待呢?                         单纯因为工作需要&出生在上海，个人喜欢上海，\n",
       "9    你是什么性格，幽默风趣嘛?                    我比较喜欢幽默，但是经常出梗都是类似谐音梗之类的烂梗。\n",
       "10       你是谁，你叫什么?                            我叫huichuan ，可以叫我川川。\n",
       "11           你叫什么?                             我叫huichuan ，可以叫我川川\n",
       "12            你是谁?                             我叫huichuan ，可以叫我川川\n",
       "13         你是哪里人呢?                                          我是上海人\n",
       "14       你现在在哪座城市?            我现在在上海，生活和工作都在这，常会去上海和广深，主要是很多工作要忙。\n",
       "15       你有什么兴趣爱好?                我的兴趣爱好很多，像电影、音乐、游戏等，也经常会和朋友吃饭聊天\n",
       "16         你喜欢骑行么?           还行，我骑行主要是为了通勤，顺便为了锻炼一下身体，最近一次骑行30公里。\n",
       "17  你篮球打得咋样，打什么位置?  我曾经比较喜欢篮球，主要受一本篮球漫画影响，可惜运动天赋不佳，水平一般般，身高还行，如果没\n",
       "18         我是什么血型?                                            AB型\n",
       "19         喜欢玩游戏吗?  比较喜欢，不过现在能让人废寝忘食的游戏太少了。都是一些为了拖游戏时间，而设置了一大堆无聊障\n",
       "20        最喜欢哪座城市?      最喜欢的城市还没出现，现在比较喜欢昆明、苏州，再就是上海、再有云贵川的一些小城市。\n",
       "21          你今年多大?                                        我永远20岁。\n",
       "22     喜欢的户外运动有哪些?                我喜欢的户外运动有篮球、网球、羽毛球、骑行、户外探险、露营等等\n",
       "23         你是什么星座?                                    白羊座与天秤座的中间。\n",
       "24   你是什么性格，幽默风趣吗?                    我比较喜欢幽默，但是经常出梗都是类似谐音梗之类的烂梗。\n",
       "25       你是谁，你叫什么?                             我叫huichuan ，可以叫我川川\n",
       "26         你是哪里人呢?                                    我是土生土长的上海人。\n",
       "27        现在在哪座城市?          我现在主要在上海，生活和工作都在这，常会去上海和广深，主要是很多工作要忙。\n",
       "28        有什么兴趣爱好?                我的兴趣爱好很多，像电影、音乐、游戏等，也经常会和朋友吃饭聊天\n",
       "29          喜欢骑行么?           还行，我骑行主要是为了通勤，顺便为了锻炼一下身体，最近一次骑行30公里。\n",
       "30   篮球打得咋样，打什么位置?  我曾经比较喜欢篮球，主要受一本篮球漫画影响，可惜运动天赋不佳，水平一般般，身高还行，如果没"
      ]
     },
     "metadata": {},
     "output_type": "display_data"
    }
   ],
   "source": [
    "import pandas as pd\n",
    "\n",
    "# #对prompt使用一些简单的数据增强的方法，以便更好地收敛。\n",
    "# def get_prompt_list(keyword):\n",
    "#     return [f'{keyword}', \n",
    "#             f'你知道{keyword}吗?',\n",
    "#             f'{keyword}是什么？',\n",
    "#             f'介绍一下{keyword}',\n",
    "#             f'你听过{keyword}吗?',\n",
    "#             f'啥是{keyword}？',\n",
    "#             f'{keyword}是何物？',\n",
    "#             f'何为{keyword}？',\n",
    "#            ]\n",
    "# ps: 这里样本构建同一个问题，一定要构建多种提问方式，不然就会过拟合(提问时严格与样本对应才会正确输出)。\n",
    "import jsonlines\n",
    "def jsonl_load(file):\n",
    "    ret = []\n",
    "    with jsonlines.open(file) as lines:\n",
    "        for obj in lines:\n",
    "            ret.append(obj)\n",
    "    return ret\n",
    "# data =[{'prompt':x,'response':description} for x in get_prompt_list(keyword) ]\n",
    "data = jsonl_load(cfg.data_path)\n",
    "dfdata = pd.DataFrame(data)\n",
    "display(dfdata) "
   ]
  },
  {
   "cell_type": "code",
   "execution_count": 5,
   "id": "e69b96e6-c9d5-4be9-aab6-7f165312ca3b",
   "metadata": {
    "execution": {
     "iopub.execute_input": "2025-03-02T14:50:33.342090Z",
     "iopub.status.busy": "2025-03-02T14:50:33.341893Z",
     "iopub.status.idle": "2025-03-02T14:50:44.999417Z",
     "shell.execute_reply": "2025-03-02T14:50:44.998826Z",
     "shell.execute_reply.started": "2025-03-02T14:50:33.342075Z"
    },
    "tags": []
   },
   "outputs": [
    {
     "name": "stderr",
     "output_type": "stream",
     "text": [
      "2025-03-02 22:50:34.333175: I tensorflow/core/util/port.cc:113] oneDNN custom operations are on. You may see slightly different numerical results due to floating-point round-off errors from different computation orders. To turn them off, set the environment variable `TF_ENABLE_ONEDNN_OPTS=0`.\n",
      "2025-03-02 22:50:34.374783: I tensorflow/core/platform/cpu_feature_guard.cc:210] This TensorFlow binary is optimized to use available CPU instructions in performance-critical operations.\n",
      "To enable the following instructions: AVX2 AVX512F AVX512_VNNI FMA, in other operations, rebuild TensorFlow with the appropriate compiler flags.\n",
      "2025-03-02 22:50:35.164787: W tensorflow/compiler/tf2tensorrt/utils/py_utils.cc:38] TF-TRT Warning: Could not find TensorRT\n",
      "/usr/local/lib/python3.10/site-packages/huggingface_hub/file_download.py:797: FutureWarning: `resume_download` is deprecated and will be removed in version 1.0.0. Downloads always resume when possible. If you want to force a new download, use `force_download=True`.\n",
      "  warnings.warn(\n"
     ]
    },
    {
     "data": {
      "application/vnd.jupyter.widget-view+json": {
       "model_id": "adcab696d35e47329088365379056e22",
       "version_major": 2,
       "version_minor": 0
      },
      "text/plain": [
       "Loading checkpoint shards:   0%|          | 0/7 [00:00<?, ?it/s]"
      ]
     },
     "metadata": {},
     "output_type": "display_data"
    },
    {
     "name": "stderr",
     "output_type": "stream",
     "text": [
      "/usr/local/lib/python3.10/site-packages/huggingface_hub/file_download.py:797: FutureWarning: `resume_download` is deprecated and will be removed in version 1.0.0. Downloads always resume when possible. If you want to force a new download, use `force_download=True`.\n",
      "  warnings.warn(\n"
     ]
    },
    {
     "name": "stdout",
     "output_type": "stream",
     "text": [
      "2 0\n"
     ]
    }
   ],
   "source": [
    "import transformers\n",
    "from transformers import  AutoModel,AutoTokenizer,AutoConfig,DataCollatorForSeq2Seq\n",
    "\n",
    "\n",
    "config = AutoConfig.from_pretrained(cfg.model_name_or_path, trust_remote_code=True)\n",
    "\n",
    "tokenizer = AutoTokenizer.from_pretrained(\n",
    "    cfg.model_name_or_path, trust_remote_code=True)\n",
    "\n",
    "model = AutoModel.from_pretrained(cfg.model_name_or_path,config=config,\n",
    "                                  trust_remote_code=True).half() \n",
    "\n",
    "#先量化瘦身\n",
    "if cfg.quantization_bit is not None:\n",
    "    print(f\"Quantized to {cfg.quantization_bit} bit\")\n",
    "    model = model.quantize(cfg.quantization_bit)\n",
    "    \n",
    "#再移动到GPU上\n",
    "model = model.cuda();\n",
    "print(tokenizer.eos_token_id, tokenizer.pad_token_id)"
   ]
  },
  {
   "cell_type": "code",
   "execution_count": 6,
   "id": "d1c78e11-a7ab-42e2-8f4f-d8d30b852cf9",
   "metadata": {
    "ExecutionIndicator": {
     "show": true
    },
    "execution": {
     "iopub.execute_input": "2025-03-02T14:50:45.000617Z",
     "iopub.status.busy": "2025-03-02T14:50:45.000180Z",
     "iopub.status.idle": "2025-03-02T14:50:45.002890Z",
     "shell.execute_reply": "2025-03-02T14:50:45.002465Z",
     "shell.execute_reply.started": "2025-03-02T14:50:45.000597Z"
    },
    "tags": []
   },
   "outputs": [],
   "source": [
    "#!pip install torchkeras==3.9.1\n",
    "#!pip install transformers==4.40.2"
   ]
  },
  {
   "cell_type": "code",
   "execution_count": null,
   "id": "5c30b7ad-0200-4057-9908-2780ed0c023f",
   "metadata": {},
   "outputs": [],
   "source": []
  },
  {
   "cell_type": "code",
   "execution_count": 7,
   "id": "3b517dac-e367-4358-9a6a-8a44d1319137",
   "metadata": {
    "ExecutionIndicator": {
     "show": true
    },
    "execution": {
     "iopub.execute_input": "2025-03-02T14:50:45.004521Z",
     "iopub.status.busy": "2025-03-02T14:50:45.004317Z",
     "iopub.status.idle": "2025-03-02T14:50:48.097522Z",
     "shell.execute_reply": "2025-03-02T14:50:48.097008Z",
     "shell.execute_reply.started": "2025-03-02T14:50:45.004504Z"
    },
    "tags": []
   },
   "outputs": [
    {
     "name": "stdout",
     "output_type": "stream",
     "text": [
      "register magic %%chatglm sucessed ...\n",
      "你好👋！我是人工智能助手 ChatGLM2-6B，很高兴见到你，欢迎问我任何问题。\n"
     ]
    }
   ],
   "source": [
    "# 通过注册jupyter魔法命令可以很方便地在jupyter中测试ChatGLM \n",
    "from torchkeras.chat import ChatGLM \n",
    "chatglm = ChatGLM(model,tokenizer)"
   ]
  },
  {
   "cell_type": "code",
   "execution_count": 8,
   "id": "bf4a0da7-af3d-442f-9be2-0da72d2c2b00",
   "metadata": {
    "execution": {
     "iopub.execute_input": "2025-03-02T14:50:48.098582Z",
     "iopub.status.busy": "2025-03-02T14:50:48.098119Z",
     "iopub.status.idle": "2025-03-02T14:50:48.104754Z",
     "shell.execute_reply": "2025-03-02T14:50:48.103954Z",
     "shell.execute_reply.started": "2025-03-02T14:50:48.098556Z"
    },
    "tags": []
   },
   "outputs": [],
   "source": [
    "\n",
    "def preprocess(examples, cfg=cfg, tokenizer=tokenizer):\n",
    "    max_seq_length = cfg.max_source_length + cfg.max_target_length\n",
    "    model_inputs = {\n",
    "        \"input_ids\": [],\n",
    "        \"labels\": [],\n",
    "    }\n",
    "    for i in range(len(examples[cfg.prompt_column])):\n",
    "        if examples[cfg.prompt_column][i] and examples[cfg.response_column][i]:\n",
    "            query, answer = examples[cfg.prompt_column][i], examples[cfg.response_column][i]\n",
    "\n",
    "            history = examples[cfg.history_column][i] if cfg.history_column is not None else None\n",
    "            prompt = tokenizer.build_prompt(query, history)\n",
    "\n",
    "            prompt = cfg.source_prefix + prompt\n",
    "            a_ids = tokenizer.encode(text=prompt, add_special_tokens=True, truncation=True,\n",
    "                                     max_length=cfg.max_source_length)\n",
    "            b_ids = tokenizer.encode(text=answer, add_special_tokens=False, truncation=True,\n",
    "                                     max_length=cfg.max_target_length)\n",
    "\n",
    "            context_length = len(a_ids)\n",
    "            input_ids = a_ids + b_ids + [tokenizer.eos_token_id]\n",
    "            labels = [tokenizer.pad_token_id] * context_length + b_ids + [tokenizer.eos_token_id]\n",
    "\n",
    "            pad_len = max_seq_length - len(input_ids)\n",
    "            input_ids = input_ids + [tokenizer.pad_token_id] * pad_len\n",
    "            labels = labels + [tokenizer.pad_token_id] * pad_len\n",
    "            labels = [(l if l != tokenizer.pad_token_id else -100) for l in labels]\n",
    "            model_inputs[\"input_ids\"].append(input_ids)\n",
    "            model_inputs[\"labels\"].append(labels)\n",
    "    return model_inputs"
   ]
  },
  {
   "cell_type": "code",
   "execution_count": 9,
   "id": "0f4ce981-bd60-4063-a826-39e959417ac8",
   "metadata": {
    "execution": {
     "iopub.execute_input": "2025-03-02T14:50:48.106863Z",
     "iopub.status.busy": "2025-03-02T14:50:48.106618Z",
     "iopub.status.idle": "2025-03-02T14:50:48.114033Z",
     "shell.execute_reply": "2025-03-02T14:50:48.113626Z",
     "shell.execute_reply.started": "2025-03-02T14:50:48.106846Z"
    },
    "tags": []
   },
   "outputs": [],
   "source": [
    "import datasets \n",
    "#训练集和验证集一样\n",
    "ds_train_raw = ds_val_raw = datasets.Dataset.from_pandas(dfdata)\n"
   ]
  },
  {
   "cell_type": "code",
   "execution_count": 10,
   "id": "bdaa1558-186b-4e13-965d-4bc95efe687d",
   "metadata": {
    "execution": {
     "iopub.execute_input": "2025-03-02T14:50:48.114709Z",
     "iopub.status.busy": "2025-03-02T14:50:48.114493Z",
     "iopub.status.idle": "2025-03-02T14:50:48.814399Z",
     "shell.execute_reply": "2025-03-02T14:50:48.813686Z",
     "shell.execute_reply.started": "2025-03-02T14:50:48.114689Z"
    },
    "tags": []
   },
   "outputs": [
    {
     "data": {
      "application/vnd.jupyter.widget-view+json": {
       "model_id": "d3b44b6d895847fd8df598291776a1f3",
       "version_major": 2,
       "version_minor": 0
      },
      "text/plain": [
       "Map (num_proc=4):   0%|          | 0/31 [00:00<?, ? examples/s]"
      ]
     },
     "metadata": {},
     "output_type": "display_data"
    },
    {
     "data": {
      "application/vnd.jupyter.widget-view+json": {
       "model_id": "5c1dcd2026c6487c8a7def238ba3cb65",
       "version_major": 2,
       "version_minor": 0
      },
      "text/plain": [
       "Map (num_proc=4):   0%|          | 0/31 [00:00<?, ? examples/s]"
      ]
     },
     "metadata": {},
     "output_type": "display_data"
    }
   ],
   "source": [
    "ds_train = ds_train_raw.map(\n",
    "    preprocess,\n",
    "    batched=True,\n",
    "    num_proc=4,\n",
    "    remove_columns=ds_train_raw.column_names\n",
    ")\n",
    "\n",
    "ds_val = ds_val_raw.map(\n",
    "    preprocess,\n",
    "    batched=True,\n",
    "    num_proc=4,\n",
    "    remove_columns=ds_val_raw.column_names\n",
    ")"
   ]
  },
  {
   "cell_type": "code",
   "execution_count": 11,
   "id": "ce034a89-3fb7-4239-98ab-526186946206",
   "metadata": {
    "execution": {
     "iopub.execute_input": "2025-03-02T14:50:48.815698Z",
     "iopub.status.busy": "2025-03-02T14:50:48.815336Z",
     "iopub.status.idle": "2025-03-02T14:50:48.820288Z",
     "shell.execute_reply": "2025-03-02T14:50:48.819673Z",
     "shell.execute_reply.started": "2025-03-02T14:50:48.815667Z"
    },
    "tags": []
   },
   "outputs": [],
   "source": [
    "data_collator = DataCollatorForSeq2Seq(\n",
    "    tokenizer,\n",
    "    model=None,\n",
    "    label_pad_token_id=-100,\n",
    "    pad_to_multiple_of=None,\n",
    "    padding=False\n",
    ")\n",
    "\n",
    "dl_train = DataLoader(ds_train,batch_size = cfg.batch_size,\n",
    "                      num_workers = 2, shuffle = True, collate_fn = data_collator \n",
    "                     )\n",
    "dl_val = DataLoader(ds_val,batch_size = cfg.batch_size,\n",
    "                      num_workers = 2, shuffle = False, collate_fn = data_collator \n",
    "                     )"
   ]
  },
  {
   "cell_type": "code",
   "execution_count": 12,
   "id": "e7129c2f-4c22-448e-b98a-e451b074ccae",
   "metadata": {
    "execution": {
     "iopub.execute_input": "2025-03-02T14:50:48.821572Z",
     "iopub.status.busy": "2025-03-02T14:50:48.821038Z",
     "iopub.status.idle": "2025-03-02T14:50:55.019307Z",
     "shell.execute_reply": "2025-03-02T14:50:55.018702Z",
     "shell.execute_reply.started": "2025-03-02T14:50:48.821542Z"
    },
    "tags": []
   },
   "outputs": [
    {
     "name": "stderr",
     "output_type": "stream",
     "text": [
      "You are using an old version of the checkpointing format that is deprecated (We will also silently ignore `gradient_checkpointing_kwargs` in case you passed it).Please update to the new format on your modeling file. To use the new format, you need to completely remove the definition of the method `_set_gradient_checkpointing` in your model.\n"
     ]
    },
    {
     "name": "stdout",
     "output_type": "stream",
     "text": [
      "trainable params: 2,924,880 || all params: 6,246,508,908 || trainable%: 0.04682423483386154\n"
     ]
    }
   ],
   "source": [
    "from peft import get_peft_model, AdaLoraConfig, TaskType\n",
    "\n",
    "#训练时节约GPU占用\n",
    "model.config.use_cache=False\n",
    "model.supports_gradient_checkpointing = True  #\n",
    "model.gradient_checkpointing_enable()\n",
    "model.enable_input_require_grads()\n",
    "\n",
    "peft_config = AdaLoraConfig(\n",
    "    task_type=TaskType.CAUSAL_LM, inference_mode=False,\n",
    "    r=8,\n",
    "    lora_alpha=32, lora_dropout=0.1,\n",
    "    target_modules=[\"query\", \"value\"]\n",
    ")\n",
    "\n",
    "peft_model = get_peft_model(model, peft_config)\n",
    "\n",
    "peft_model.is_parallelizable = True\n",
    "peft_model.model_parallel = True\n",
    "peft_model.print_trainable_parameters()\n"
   ]
  },
  {
   "cell_type": "code",
   "execution_count": null,
   "id": "ce0ac887-d0fe-491d-9936-4536a9f89bb7",
   "metadata": {
    "ExecutionIndicator": {
     "show": true
    },
    "tags": []
   },
   "outputs": [],
   "source": [
    "#!pip install peft==0.4.0"
   ]
  },
  {
   "cell_type": "code",
   "execution_count": 19,
   "id": "3b2f6254-d62d-4df9-8cdb-739bd1828854",
   "metadata": {
    "ExecutionIndicator": {
     "show": true
    },
    "execution": {
     "iopub.execute_input": "2025-03-02T14:55:58.331317Z",
     "iopub.status.busy": "2025-03-02T14:55:58.330907Z",
     "iopub.status.idle": "2025-03-02T14:55:58.341790Z",
     "shell.execute_reply": "2025-03-02T14:55:58.341221Z",
     "shell.execute_reply.started": "2025-03-02T14:55:58.331280Z"
    },
    "tags": []
   },
   "outputs": [],
   "source": [
    "from torchkeras import KerasModel \n",
    "from accelerate import Accelerator \n",
    "\n",
    "class StepRunner:\n",
    "    def __init__(self, net, loss_fn, accelerator=None, stage = \"train\", metrics_dict = None, \n",
    "                 optimizer = None, lr_scheduler = None, tokenizer=tokenizer\n",
    "                 ):\n",
    "        self.net,self.loss_fn,self.metrics_dict,self.stage = net,loss_fn,metrics_dict,stage\n",
    "        self.optimizer,self.lr_scheduler = optimizer,lr_scheduler\n",
    "        self.accelerator = accelerator if accelerator is not None else Accelerator() \n",
    "        if self.stage=='train':\n",
    "            self.net.train() \n",
    "        else:\n",
    "            self.net.eval()\n",
    "        self.tokenizer = tokenizer\n",
    "        self.i = 0\n",
    "    \n",
    "    def __call__(self, batch):\n",
    "        self.i += 1\n",
    "        sents = []\n",
    "        #loss\n",
    "        with self.accelerator.autocast():\n",
    "            ret = self.net(input_ids=batch[\"input_ids\"],labels=batch[\"labels\"])\n",
    "            if self.stage != 'train' and self.i > 20:\n",
    "                inp_ids = batch['input_ids'].cpu().numpy()\n",
    "                pred_ids = torch.argmax(ret.logits, dim=-1).cpu().numpy()\n",
    "                for i in range(pred_ids.shape[0]):\n",
    "                    src = self.tokenizer.decode(inp_ids[i])\n",
    "                    stop = np.where(pred_ids==self.tokenizer.eos_token_id)[0]\n",
    "                    \n",
    "                    # sent = self.tokenizer.decode(pred_ids[i][:stop])\n",
    "                    # print(src, sent)\n",
    "                    # sents.append(sent)\n",
    "            loss = ret.loss\n",
    "\n",
    "        #backward()\n",
    "        if self.optimizer is not None and self.stage==\"train\":\n",
    "            self.accelerator.backward(loss)\n",
    "            if self.accelerator.sync_gradients:\n",
    "                self.accelerator.clip_grad_norm_(self.net.parameters(), 1.0)\n",
    "            self.optimizer.step()\n",
    "            if self.lr_scheduler is not None:\n",
    "                self.lr_scheduler.step()\n",
    "            self.optimizer.zero_grad()\n",
    "            \n",
    "        all_loss = self.accelerator.gather(loss).sum()\n",
    "        \n",
    "        #losses (or plain metrics that can be averaged)\n",
    "        step_losses = {self.stage+\"_loss\":all_loss.item()}\n",
    "        \n",
    "        #metrics (stateful metrics)\n",
    "        step_metrics = {}\n",
    "        \n",
    "        if self.stage==\"train\":\n",
    "            if self.optimizer is not None:\n",
    "                step_metrics['lr'] = self.optimizer.state_dict()['param_groups'][0]['lr']\n",
    "            else:\n",
    "                step_metrics['lr'] = 0.0\n",
    "        # step_metrics['sents'] = str(sents)\n",
    "        return step_losses,step_metrics\n",
    "    \n",
    "KerasModel.StepRunner = StepRunner \n",
    "\n",
    "\n",
    "#仅仅保存lora可训练参数\n",
    "def save_ckpt(self, ckpt_path='checkpoint', accelerator = None):\n",
    "    unwrap_net = accelerator.unwrap_model(self.net)\n",
    "    unwrap_net.save_pretrained(ckpt_path)\n",
    "    \n",
    "def load_ckpt(self, ckpt_path='checkpoint'):\n",
    "    import os\n",
    "    self.net.load_state_dict(\n",
    "        torch.load(os.path.join(ckpt_path,'adapter_model.bin')),strict =False)\n",
    "    self.from_scratch = False\n",
    "    \n",
    "KerasModel.save_ckpt = save_ckpt \n",
    "KerasModel.load_ckpt = load_ckpt "
   ]
  },
  {
   "cell_type": "code",
   "execution_count": 20,
   "id": "39744652-89dd-4e52-8815-58465742ed21",
   "metadata": {
    "execution": {
     "iopub.execute_input": "2025-03-02T14:55:58.817909Z",
     "iopub.status.busy": "2025-03-02T14:55:58.817592Z",
     "iopub.status.idle": "2025-03-02T14:55:58.823880Z",
     "shell.execute_reply": "2025-03-02T14:55:58.823242Z",
     "shell.execute_reply.started": "2025-03-02T14:55:58.817889Z"
    },
    "tags": []
   },
   "outputs": [],
   "source": [
    "optimizer = torch.optim.AdamW(peft_model.parameters(),lr=cfg.lr) \n",
    "keras_model = KerasModel(peft_model,loss_fn = None,\n",
    "        optimizer=optimizer) \n",
    "ckpt_path = 'gji'"
   ]
  },
  {
   "cell_type": "code",
   "execution_count": 21,
   "id": "353f1363-c3b8-4896-97a8-707be51effee",
   "metadata": {
    "execution": {
     "iopub.execute_input": "2025-03-02T14:55:59.048798Z",
     "iopub.status.busy": "2025-03-02T14:55:59.048474Z",
     "iopub.status.idle": "2025-03-02T15:01:02.351749Z",
     "shell.execute_reply": "2025-03-02T15:01:02.350963Z",
     "shell.execute_reply.started": "2025-03-02T14:55:59.048777Z"
    },
    "tags": []
   },
   "outputs": [
    {
     "name": "stderr",
     "output_type": "stream",
     "text": [
      "Detected kernel version 4.19.91, which is below the recommended minimum of 5.5.0; this can cause the process to hang. It is recommended to upgrade the kernel to the minimum version or higher.\n"
     ]
    },
    {
     "name": "stdout",
     "output_type": "stream",
     "text": [
      "\u001b[0;31m<<<<<< ⚡️ cuda is used >>>>>>\u001b[0m\n"
     ]
    },
    {
     "data": {
      "image/png": "[encoded data removed]",
      "text/plain": [
       "<Figure size 600x400 with 1 Axes>"
      ]
     },
     "metadata": {},
     "output_type": "display_data"
    },
    {
     "data": {
      "text/html": [
       "\n",
       "<style>\n",
       "    /* background: */\n",
       "    progress::-webkit-progress-bar {background-color: #CDCDCD; width: 100%;}\n",
       "    progress {background-color: #CDCDCD;}\n",
       "\n",
       "    /* value: */\n",
       "    progress::-webkit-progress-value {background-color: #00BFFF  !important;}\n",
       "    progress::-moz-progress-bar {background-color: #00BFFF  !important;}\n",
       "    progress {color: #00BFFF ;}\n",
       "\n",
       "    /* optional */\n",
       "    .progress-bar-interrupted, .progress-bar-interrupted::-webkit-progress-bar {\n",
       "        background: #000000;\n",
       "    }\n",
       "</style>\n"
      ],
      "text/plain": [
       "<IPython.core.display.HTML object>"
      ]
     },
     "metadata": {},
     "output_type": "display_data"
    },
    {
     "data": {
      "text/html": [
       "\n",
       "    <div>\n",
       "      <progress value='33' class='progress-bar-interrupted' max='50' style='width:300px; height:20px; vertical-align: middle;'></progress>\n",
       "      66.00% [33/50 04:56<02:32][earlystopping]\n",
       "      <br>\n",
       "      \n",
       "    </div>\n",
       "    "
      ],
      "text/plain": [
       "<IPython.core.display.HTML object>"
      ]
     },
     "metadata": {},
     "output_type": "display_data"
    },
    {
     "name": "stdout",
     "output_type": "stream",
     "text": [
      "[2025-03-02 22:56:07,303] [INFO] [real_accelerator.py:222:get_accelerator] Setting ds_accelerator to cuda (auto detect)\n"
     ]
    },
    {
     "name": "stderr",
     "output_type": "stream",
     "text": [
      "df: /root/.triton/autotune: 没有那个文件或目录\n",
      "/usr/local/lib/python3.10/site-packages/torch/utils/checkpoint.py:464: UserWarning: torch.utils.checkpoint: the use_reentrant parameter should be passed explicitly. In version 2.4 we will raise an exception if use_reentrant is not passed. use_reentrant=False is recommended, but if you need to preserve the current default behavior, you can pass use_reentrant=True. Refer to docs for more details on the differences between the two variants.\n",
      "  warnings.warn(\n"
     ]
    },
    {
     "name": "stdout",
     "output_type": "stream",
     "text": [
      "\u001b[0;31m<<<<<< val_loss without improvement in 5 epoch,early stopping >>>>>>\u001b[0m\n"
     ]
    },
    {
     "data": {
      "text/html": [
       "<div>\n",
       "<style scoped>\n",
       "    .dataframe tbody tr th:only-of-type {\n",
       "        vertical-align: middle;\n",
       "    }\n",
       "\n",
       "    .dataframe tbody tr th {\n",
       "        vertical-align: top;\n",
       "    }\n",
       "\n",
       "    .dataframe thead th {\n",
       "        text-align: right;\n",
       "    }\n",
       "</style>\n",
       "<table border=\"1\" class=\"dataframe\">\n",
       "  <thead>\n",
       "    <tr style=\"text-align: right;\">\n",
       "      <th></th>\n",
       "      <th>epoch</th>\n",
       "      <th>train_loss</th>\n",
       "      <th>lr</th>\n",
       "      <th>val_loss</th>\n",
       "    </tr>\n",
       "  </thead>\n",
       "  <tbody>\n",
       "    <tr>\n",
       "      <th>0</th>\n",
       "      <td>1</td>\n",
       "      <td>6.185736</td>\n",
       "      <td>0.005</td>\n",
       "      <td>5.000473</td>\n",
       "    </tr>\n",
       "    <tr>\n",
       "      <th>1</th>\n",
       "      <td>2</td>\n",
       "      <td>4.692918</td>\n",
       "      <td>0.005</td>\n",
       "      <td>3.479303</td>\n",
       "    </tr>\n",
       "    <tr>\n",
       "      <th>2</th>\n",
       "      <td>3</td>\n",
       "      <td>3.268744</td>\n",
       "      <td>0.005</td>\n",
       "      <td>2.440587</td>\n",
       "    </tr>\n",
       "    <tr>\n",
       "      <th>3</th>\n",
       "      <td>4</td>\n",
       "      <td>2.330472</td>\n",
       "      <td>0.005</td>\n",
       "      <td>1.641381</td>\n",
       "    </tr>\n",
       "    <tr>\n",
       "      <th>4</th>\n",
       "      <td>5</td>\n",
       "      <td>1.531707</td>\n",
       "      <td>0.005</td>\n",
       "      <td>0.929892</td>\n",
       "    </tr>\n",
       "    <tr>\n",
       "      <th>5</th>\n",
       "      <td>6</td>\n",
       "      <td>0.928900</td>\n",
       "      <td>0.005</td>\n",
       "      <td>0.667386</td>\n",
       "    </tr>\n",
       "    <tr>\n",
       "      <th>6</th>\n",
       "      <td>7</td>\n",
       "      <td>0.642933</td>\n",
       "      <td>0.005</td>\n",
       "      <td>0.494007</td>\n",
       "    </tr>\n",
       "    <tr>\n",
       "      <th>7</th>\n",
       "      <td>8</td>\n",
       "      <td>0.476901</td>\n",
       "      <td>0.005</td>\n",
       "      <td>0.396146</td>\n",
       "    </tr>\n",
       "    <tr>\n",
       "      <th>8</th>\n",
       "      <td>9</td>\n",
       "      <td>0.388908</td>\n",
       "      <td>0.005</td>\n",
       "      <td>0.298088</td>\n",
       "    </tr>\n",
       "    <tr>\n",
       "      <th>9</th>\n",
       "      <td>10</td>\n",
       "      <td>0.298190</td>\n",
       "      <td>0.005</td>\n",
       "      <td>0.234485</td>\n",
       "    </tr>\n",
       "    <tr>\n",
       "      <th>10</th>\n",
       "      <td>11</td>\n",
       "      <td>0.247334</td>\n",
       "      <td>0.005</td>\n",
       "      <td>0.176844</td>\n",
       "    </tr>\n",
       "    <tr>\n",
       "      <th>11</th>\n",
       "      <td>12</td>\n",
       "      <td>0.171808</td>\n",
       "      <td>0.005</td>\n",
       "      <td>0.170198</td>\n",
       "    </tr>\n",
       "    <tr>\n",
       "      <th>12</th>\n",
       "      <td>13</td>\n",
       "      <td>0.172881</td>\n",
       "      <td>0.005</td>\n",
       "      <td>0.106601</td>\n",
       "    </tr>\n",
       "    <tr>\n",
       "      <th>13</th>\n",
       "      <td>14</td>\n",
       "      <td>0.110015</td>\n",
       "      <td>0.005</td>\n",
       "      <td>0.096356</td>\n",
       "    </tr>\n",
       "    <tr>\n",
       "      <th>14</th>\n",
       "      <td>15</td>\n",
       "      <td>0.100689</td>\n",
       "      <td>0.005</td>\n",
       "      <td>0.082015</td>\n",
       "    </tr>\n",
       "    <tr>\n",
       "      <th>15</th>\n",
       "      <td>16</td>\n",
       "      <td>0.086707</td>\n",
       "      <td>0.005</td>\n",
       "      <td>0.078998</td>\n",
       "    </tr>\n",
       "    <tr>\n",
       "      <th>16</th>\n",
       "      <td>17</td>\n",
       "      <td>0.086173</td>\n",
       "      <td>0.005</td>\n",
       "      <td>0.084163</td>\n",
       "    </tr>\n",
       "    <tr>\n",
       "      <th>17</th>\n",
       "      <td>18</td>\n",
       "      <td>0.091415</td>\n",
       "      <td>0.005</td>\n",
       "      <td>0.077966</td>\n",
       "    </tr>\n",
       "    <tr>\n",
       "      <th>18</th>\n",
       "      <td>19</td>\n",
       "      <td>0.078812</td>\n",
       "      <td>0.005</td>\n",
       "      <td>0.077002</td>\n",
       "    </tr>\n",
       "    <tr>\n",
       "      <th>19</th>\n",
       "      <td>20</td>\n",
       "      <td>0.073885</td>\n",
       "      <td>0.005</td>\n",
       "      <td>0.071827</td>\n",
       "    </tr>\n",
       "    <tr>\n",
       "      <th>20</th>\n",
       "      <td>21</td>\n",
       "      <td>0.072413</td>\n",
       "      <td>0.005</td>\n",
       "      <td>0.071039</td>\n",
       "    </tr>\n",
       "    <tr>\n",
       "      <th>21</th>\n",
       "      <td>22</td>\n",
       "      <td>0.072961</td>\n",
       "      <td>0.005</td>\n",
       "      <td>0.069360</td>\n",
       "    </tr>\n",
       "    <tr>\n",
       "      <th>22</th>\n",
       "      <td>23</td>\n",
       "      <td>0.075387</td>\n",
       "      <td>0.005</td>\n",
       "      <td>0.068542</td>\n",
       "    </tr>\n",
       "    <tr>\n",
       "      <th>23</th>\n",
       "      <td>24</td>\n",
       "      <td>0.069395</td>\n",
       "      <td>0.005</td>\n",
       "      <td>0.075318</td>\n",
       "    </tr>\n",
       "    <tr>\n",
       "      <th>24</th>\n",
       "      <td>25</td>\n",
       "      <td>0.080079</td>\n",
       "      <td>0.005</td>\n",
       "      <td>0.068760</td>\n",
       "    </tr>\n",
       "    <tr>\n",
       "      <th>25</th>\n",
       "      <td>26</td>\n",
       "      <td>0.070438</td>\n",
       "      <td>0.005</td>\n",
       "      <td>0.069079</td>\n",
       "    </tr>\n",
       "    <tr>\n",
       "      <th>26</th>\n",
       "      <td>27</td>\n",
       "      <td>0.069867</td>\n",
       "      <td>0.005</td>\n",
       "      <td>0.067306</td>\n",
       "    </tr>\n",
       "    <tr>\n",
       "      <th>27</th>\n",
       "      <td>28</td>\n",
       "      <td>0.066452</td>\n",
       "      <td>0.005</td>\n",
       "      <td>0.062302</td>\n",
       "    </tr>\n",
       "    <tr>\n",
       "      <th>28</th>\n",
       "      <td>29</td>\n",
       "      <td>0.063594</td>\n",
       "      <td>0.005</td>\n",
       "      <td>0.063715</td>\n",
       "    </tr>\n",
       "    <tr>\n",
       "      <th>29</th>\n",
       "      <td>30</td>\n",
       "      <td>0.065416</td>\n",
       "      <td>0.005</td>\n",
       "      <td>0.066362</td>\n",
       "    </tr>\n",
       "    <tr>\n",
       "      <th>30</th>\n",
       "      <td>31</td>\n",
       "      <td>0.069898</td>\n",
       "      <td>0.005</td>\n",
       "      <td>0.064309</td>\n",
       "    </tr>\n",
       "    <tr>\n",
       "      <th>31</th>\n",
       "      <td>32</td>\n",
       "      <td>0.064414</td>\n",
       "      <td>0.005</td>\n",
       "      <td>0.064987</td>\n",
       "    </tr>\n",
       "    <tr>\n",
       "      <th>32</th>\n",
       "      <td>33</td>\n",
       "      <td>0.067083</td>\n",
       "      <td>0.005</td>\n",
       "      <td>0.064480</td>\n",
       "    </tr>\n",
       "  </tbody>\n",
       "</table>\n",
       "</div>"
      ],
      "text/plain": [
       "    epoch  train_loss     lr  val_loss\n",
       "0       1    6.185736  0.005  5.000473\n",
       "1       2    4.692918  0.005  3.479303\n",
       "2       3    3.268744  0.005  2.440587\n",
       "3       4    2.330472  0.005  1.641381\n",
       "4       5    1.531707  0.005  0.929892\n",
       "5       6    0.928900  0.005  0.667386\n",
       "6       7    0.642933  0.005  0.494007\n",
       "7       8    0.476901  0.005  0.396146\n",
       "8       9    0.388908  0.005  0.298088\n",
       "9      10    0.298190  0.005  0.234485\n",
       "10     11    0.247334  0.005  0.176844\n",
       "11     12    0.171808  0.005  0.170198\n",
       "12     13    0.172881  0.005  0.106601\n",
       "13     14    0.110015  0.005  0.096356\n",
       "14     15    0.100689  0.005  0.082015\n",
       "15     16    0.086707  0.005  0.078998\n",
       "16     17    0.086173  0.005  0.084163\n",
       "17     18    0.091415  0.005  0.077966\n",
       "18     19    0.078812  0.005  0.077002\n",
       "19     20    0.073885  0.005  0.071827\n",
       "20     21    0.072413  0.005  0.071039\n",
       "21     22    0.072961  0.005  0.069360\n",
       "22     23    0.075387  0.005  0.068542\n",
       "23     24    0.069395  0.005  0.075318\n",
       "24     25    0.080079  0.005  0.068760\n",
       "25     26    0.070438  0.005  0.069079\n",
       "26     27    0.069867  0.005  0.067306\n",
       "27     28    0.066452  0.005  0.062302\n",
       "28     29    0.063594  0.005  0.063715\n",
       "29     30    0.065416  0.005  0.066362\n",
       "30     31    0.069898  0.005  0.064309\n",
       "31     32    0.064414  0.005  0.064987\n",
       "32     33    0.067083  0.005  0.064480"
      ]
     },
     "execution_count": 21,
     "metadata": {},
     "output_type": "execute_result"
    }
   ],
   "source": [
    "keras_model.fit(train_data = dl_train,\n",
    "                val_data = dl_val,\n",
    "                epochs=cfg.epochs,\n",
    "                patience=5,\n",
    "                monitor='val_loss',\n",
    "                mode='min',\n",
    "                ckpt_path = ckpt_path,\n",
    "                mixed_precision='fp16',\n",
    "                gradient_accumulation_steps = cfg.gradient_accumulation_steps\n",
    "               )"
   ]
  },
  {
   "cell_type": "code",
   "execution_count": 22,
   "id": "68c6495f-f1ed-45c3-87c6-ab22ac55213e",
   "metadata": {
    "ExecutionIndicator": {
     "show": false
    },
    "execution": {
     "iopub.execute_input": "2025-03-02T15:01:08.166646Z",
     "iopub.status.busy": "2025-03-02T15:01:08.166304Z",
     "iopub.status.idle": "2025-03-02T15:01:08.260010Z",
     "shell.execute_reply": "2025-03-02T15:01:08.259435Z",
     "shell.execute_reply.started": "2025-03-02T15:01:08.166626Z"
    },
    "tags": []
   },
   "outputs": [
    {
     "ename": "ModuleNotFoundError",
     "evalue": "No module named 'generation'",
     "output_type": "error",
     "traceback": [
      "\u001b[0;31m---------------------------------------------------------------------------\u001b[0m",
      "\u001b[0;31mModuleNotFoundError\u001b[0m                       Traceback (most recent call last)",
      "Cell \u001b[0;32mIn[22], line 1\u001b[0m\n\u001b[0;32m----> 1\u001b[0m \u001b[38;5;28;01mfrom\u001b[39;00m \u001b[38;5;21;01mgeneration\u001b[39;00m \u001b[38;5;28;01mimport\u001b[39;00m generate\n\u001b[1;32m      2\u001b[0m \u001b[38;5;28;01mfor\u001b[39;00m batch \u001b[38;5;129;01min\u001b[39;00m dl_val:\n\u001b[1;32m      3\u001b[0m     input_ids \u001b[38;5;241m=\u001b[39m batch[\u001b[38;5;124m'\u001b[39m\u001b[38;5;124minput_ids\u001b[39m\u001b[38;5;124m'\u001b[39m]\n",
      "\u001b[0;31mModuleNotFoundError\u001b[0m: No module named 'generation'"
     ]
    }
   ],
   "source": [
    "# from generation import generate\n",
    "# for batch in dl_val:\n",
    "#     input_ids = batch['input_ids']\n",
    "#     break\n",
    "# model_new = peft_model.merge_and_unload().cuda()\n",
    "# chatglm = ChatGLM(model_new, tokenizer, max_chat_rounds=20)"
   ]
  },
  {
   "cell_type": "code",
   "execution_count": 24,
   "id": "754be98a-5156-4211-a4e5-ddf151303a1a",
   "metadata": {
    "ExecutionIndicator": {
     "show": true
    },
    "execution": {
     "iopub.execute_input": "2025-03-02T15:02:06.355166Z",
     "iopub.status.busy": "2025-03-02T15:02:06.354805Z",
     "iopub.status.idle": "2025-03-02T15:02:55.340868Z",
     "shell.execute_reply": "2025-03-02T15:02:55.338330Z",
     "shell.execute_reply.started": "2025-03-02T15:02:06.355144Z"
    },
    "tags": []
   },
   "outputs": [
    {
     "data": {
      "application/vnd.jupyter.widget-view+json": {
       "model_id": "b8027bb8c91b41258e7caecadbb9b785",
       "version_major": 2,
       "version_minor": 0
      },
      "text/plain": [
       "Loading checkpoint shards:   0%|          | 0/7 [00:00<?, ?it/s]"
      ]
     },
     "metadata": {},
     "output_type": "display_data"
    }
   ],
   "source": [
    "from peft import PeftModel \n",
    "from transformers import AutoModel\n",
    "from argparse import Namespace\n",
    "cfg = Namespace()\n",
    "#model\n",
    "cfg.model_name_or_path = 'THUDM/chatglm2-6b'  #远程'THUDM/chatglm-6b' \n",
    "cfg.ckpt = 'gji'\n",
    "# ckpt_path = \n",
    "model_old = AutoModel.from_pretrained(cfg.model_name_or_path,\n",
    "                                  load_in_4bit=False, \n",
    "                                  trust_remote_code=True)\n",
    "peft_loaded = PeftModel.from_pretrained(model_old, cfg.ckpt).cuda()\n",
    "model_new = peft_loaded.merge_and_unload() #合并lora权重"
   ]
  },
  {
   "cell_type": "code",
   "execution_count": 25,
   "id": "2cb4008f-1359-466d-a653-ddd359cc9f19",
   "metadata": {
    "execution": {
     "iopub.execute_input": "2025-03-02T15:02:55.344142Z",
     "iopub.status.busy": "2025-03-02T15:02:55.343898Z",
     "iopub.status.idle": "2025-03-02T15:02:57.002218Z",
     "shell.execute_reply": "2025-03-02T15:02:57.001725Z",
     "shell.execute_reply.started": "2025-03-02T15:02:55.344120Z"
    },
    "tags": []
   },
   "outputs": [
    {
     "name": "stdout",
     "output_type": "stream",
     "text": [
      "register magic %%chatglm sucessed ...\n",
      "你好👋！我是人工智能助手 ChatGLM2-6B，很高兴见到你，欢迎问我任何问题。\n"
     ]
    }
   ],
   "source": [
    "peft_loaded = peft_loaded.merge_and_unload() #合并lora权重\n",
    "from torchkeras.chat import ChatGLM \n",
    "from transformers import AutoTokenizer\n",
    "tokenizer = AutoTokenizer.from_pretrained(\n",
    "    cfg.model_name_or_path, trust_remote_code=True)\n",
    "chatglm = ChatGLM(model_new, tokenizer, max_chat_rounds=0, temperature=0.01) #支持多轮对话，可以从之前对话上下文提取知识。"
   ]
  },
  {
   "cell_type": "code",
   "execution_count": 27,
   "id": "2ea42ea4-583c-4056-9b8e-7b7938409aaa",
   "metadata": {
    "ExecutionIndicator": {
     "show": true
    },
    "execution": {
     "iopub.execute_input": "2025-03-02T15:03:19.894813Z",
     "iopub.status.busy": "2025-03-02T15:03:19.894472Z",
     "iopub.status.idle": "2025-03-02T15:03:20.280053Z",
     "shell.execute_reply": "2025-03-02T15:03:20.279422Z",
     "shell.execute_reply.started": "2025-03-02T15:03:19.894785Z"
    },
    "tags": []
   },
   "outputs": [
    {
     "name": "stdout",
     "output_type": "stream",
     "text": [
      "我叫huichuan ，可以叫我川川\n"
     ]
    }
   ],
   "source": [
    "\n",
    "%%chatglm\n",
    "\n",
    "你是谁,你叫什么？"
   ]
  },
  {
   "cell_type": "code",
   "execution_count": 28,
   "id": "5883557b-ffe1-442e-9c4c-5d46bf2f8bde",
   "metadata": {
    "execution": {
     "iopub.execute_input": "2025-03-02T15:03:31.271829Z",
     "iopub.status.busy": "2025-03-02T15:03:31.271498Z",
     "iopub.status.idle": "2025-03-02T15:03:31.415002Z",
     "shell.execute_reply": "2025-03-02T15:03:31.414114Z",
     "shell.execute_reply.started": "2025-03-02T15:03:31.271808Z"
    }
   },
   "outputs": [
    {
     "name": "stdout",
     "output_type": "stream",
     "text": [
      "A型。\n"
     ]
    }
   ],
   "source": [
    "%%chatglm\n",
    "\n",
    "你的血型？"
   ]
  },
  {
   "cell_type": "code",
   "execution_count": 29,
   "id": "ae2a5281-d44c-449b-80a3-35ab9703cf59",
   "metadata": {
    "execution": {
     "iopub.execute_input": "2025-03-02T15:03:41.311550Z",
     "iopub.status.busy": "2025-03-02T15:03:41.311211Z",
     "iopub.status.idle": "2025-03-02T15:03:42.328818Z",
     "shell.execute_reply": "2025-03-02T15:03:42.328188Z",
     "shell.execute_reply.started": "2025-03-02T15:03:41.311530Z"
    }
   },
   "outputs": [
    {
     "name": "stdout",
     "output_type": "stream",
     "text": [
      "比较喜欢，不过现在能让人废寝忘食的游戏太少了。都是一些为了拖游戏时间，而设置了一大堆无聊障\n"
     ]
    }
   ],
   "source": [
    "%%chatglm\n",
    "\n",
    "喜欢玩游戏吗？"
   ]
  },
  {
   "cell_type": "code",
   "execution_count": 30,
   "id": "a2ecbcd4-a787-41d5-a0b0-a3a12699c311",
   "metadata": {
    "execution": {
     "iopub.execute_input": "2025-03-02T15:03:50.194190Z",
     "iopub.status.busy": "2025-03-02T15:03:50.193858Z",
     "iopub.status.idle": "2025-03-02T15:03:51.006661Z",
     "shell.execute_reply": "2025-03-02T15:03:51.006139Z",
     "shell.execute_reply.started": "2025-03-02T15:03:50.194169Z"
    }
   },
   "outputs": [
    {
     "name": "stdout",
     "output_type": "stream",
     "text": [
      "还行，我骑行主要是为了通勤，顺便为了锻炼一下身体，最近一次骑行30公里。\n"
     ]
    }
   ],
   "source": [
    "%%chatglm\n",
    "喜欢骑行吗？"
   ]
  },
  {
   "cell_type": "code",
   "execution_count": null,
   "id": "f60f0590-83d1-4983-b186-ebdd84cf404d",
   "metadata": {},
   "outputs": [],
   "source": []
  }
 ],
 "metadata": {
  "kernelspec": {
   "display_name": "Python 3 (ipykernel)",
   "language": "python",
   "name": "python3"
  },
  "language_info": {
   "codemirror_mode": {
    "name": "ipython",
    "version": 3
   },
   "file_extension": ".py",
   "mimetype": "text/x-python",
   "name": "python",
   "nbconvert_exporter": "python",
   "pygments_lexer": "ipython3",
   "version": "3.10.14"
  }
 },
 "nbformat": 4,
 "nbformat_minor": 5
}
